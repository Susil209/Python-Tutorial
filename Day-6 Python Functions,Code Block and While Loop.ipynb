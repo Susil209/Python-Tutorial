{
 "cells": [
  {
   "cell_type": "code",
   "execution_count": null,
   "id": "dae7edfd",
   "metadata": {},
   "outputs": [],
   "source": [
    "# write a function to print fibbonaci series upto n\n",
    "\n",
    "def fib(n):\n",
    "    '''This is a function that prints fibonnaci series upto n'''\n",
    "    result = []\n",
    "    a,b = 0, 1\n",
    "    while a<n : \n",
    "        #print(a, end=' ')\n",
    "        result.append(a)\n",
    "        a,b = b, a+b\n",
    "    #print()\n",
    "    return result\n",
    "    \n",
    "# calling the function with argument\n",
    "fib(100) #[0, 1, 1, 2, 3, 5, 8, 13, 21, 34, 55, 89]\n",
    "\n",
    "# fib #<function __main__.fib(n)>\n",
    "\n",
    "# assign another name to the function\n",
    "# new_fib = fib\n",
    "# new_fib(100)\n",
    "\n",
    "# print(fib(0)) # None\n"
   ]
  },
  {
   "cell_type": "code",
   "execution_count": 10,
   "id": "a03e47e2",
   "metadata": {},
   "outputs": [
    {
     "name": "stdout",
     "output_type": "stream",
     "text": [
      "OK to overwrite the file?yes\n"
     ]
    },
    {
     "data": {
      "text/plain": [
       "True"
      ]
     },
     "execution_count": 10,
     "metadata": {},
     "output_type": "execute_result"
    }
   ],
   "source": [
    "# default argument values\n",
    "def ask_ok(prompt, retries=4, reminder='Please try again!'):\n",
    "    while True:\n",
    "        reply = input(prompt)\n",
    "        if reply in {'y', 'ye', 'yes'}:\n",
    "            return True\n",
    "        if reply in {'n', 'no', 'nop', 'nope'}:\n",
    "            return False\n",
    "        retries = retries - 1\n",
    "        if retries < 0:\n",
    "            raise ValueError('invalid user response')\n",
    "        print(reminder)\n",
    "        \n",
    "# giving only the mandatory argument:\n",
    "# ask_ok('Do you really want to quit?')\n",
    "\n",
    "# giving one of the optional arguments:\n",
    "ask_ok('OK to overwrite the file?', 2)\n",
    "\n",
    "# even giving all arguments:\n",
    "# ask_ok('OK to overwrite the file?', 2, 'Come on, only yes or no!')"
   ]
  },
  {
   "cell_type": "code",
   "execution_count": 13,
   "id": "345c997b",
   "metadata": {},
   "outputs": [
    {
     "name": "stdout",
     "output_type": "stream",
     "text": [
      "-- This parrot wouldn't voom if you put 1000 volts through it.\n",
      "-- Lovely plumage, the Norwegian Blue\n",
      "-- It's a stiff !\n",
      "-- This parrot wouldn't VOOOOOM if you put 1000000 volts through it.\n",
      "-- Lovely plumage, the Norwegian Blue\n",
      "-- It's a stiff !\n",
      "-- This parrot wouldn't VOOOOOM if you put 1000000 volts through it.\n",
      "-- Lovely plumage, the Norwegian Blue\n",
      "-- It's a stiff !\n"
     ]
    }
   ],
   "source": [
    "# Keyword Arguments\n",
    "def parrot(voltage, state='a stiff', action='voom', type='Norwegian Blue'):\n",
    "    print(\"-- This parrot wouldn't\", action, end=' ')\n",
    "    print(\"if you put\", voltage, \"volts through it.\")\n",
    "    print(\"-- Lovely plumage, the\", type)\n",
    "    print(\"-- It's\", state, \"!\")\n",
    "    \n",
    "parrot(voltage = 1000)                     # 1 keyword arguments\n",
    "parrot(voltage=1000000, action='VOOOOOM')  # 2 keyword arguments\n",
    "parrot(action='VOOOOOM', voltage=1000000)  # 2 keyword arguments"
   ]
  },
  {
   "cell_type": "code",
   "execution_count": null,
   "id": "9c743b7c",
   "metadata": {},
   "outputs": [],
   "source": [
    "#  While loop\n",
    "\n",
    "num_list = [2,9,11,17,24,28,30]\n",
    "count_even = 0\n",
    "even_nums = []\n",
    "index = 0\n",
    "\n",
    "while index < len(num_list):\n",
    "    curr_num = num_list[index]\n",
    "    # count even\n",
    "    if curr_num % 2 == 0:\n",
    "        count_even += 1\n",
    "        even_nums.append(curr_num)\n",
    "    index+=1\n",
    "    \n",
    "print(count_even)\n",
    "print(even_nums)"
   ]
  },
  {
   "cell_type": "code",
   "execution_count": null,
   "id": "72c633bd",
   "metadata": {},
   "outputs": [],
   "source": [
    "#  Sum of even numbers upto n\n",
    "number = int(input(\"Enter the number: \"))\n",
    "even_sum = 0\n",
    "\n",
    "def sum_of_even(num):\n",
    "    index = 0\n",
    "    global even_sum\n",
    "    while index <= num:\n",
    "        if index%2 == 0:\n",
    "            even_sum += index\n",
    "        index += 1\n",
    "    return even_sum\n",
    "\n",
    "sum_of_even(number)"
   ]
  },
  {
   "cell_type": "code",
   "execution_count": null,
   "id": "181ebf3e",
   "metadata": {},
   "outputs": [],
   "source": [
    "# Build the multiplication table for a given number upto 10 but not the fifth iteration\n",
    "\n",
    "number = int(input(\"Enter the number: \"))\n",
    "result_table = []\n",
    "\n",
    "def multiplication_table(number):\n",
    "    index = 0\n",
    "    while index<=10:\n",
    "        if index == 5:\n",
    "            continue\n",
    "        number *= index\n",
    "        result_table.append(number)\n",
    "        index += 1\n",
    "    return result_table\n",
    "\n",
    "print(multiplication_table(number))\n",
    "\n"
   ]
  },
  {
   "cell_type": "code",
   "execution_count": null,
   "id": "98875101",
   "metadata": {},
   "outputs": [],
   "source": []
  }
 ],
 "metadata": {
  "kernelspec": {
   "display_name": "Python 3 (ipykernel)",
   "language": "python",
   "name": "python3"
  },
  "language_info": {
   "codemirror_mode": {
    "name": "ipython",
    "version": 3
   },
   "file_extension": ".py",
   "mimetype": "text/x-python",
   "name": "python",
   "nbconvert_exporter": "python",
   "pygments_lexer": "ipython3",
   "version": "3.9.18"
  }
 },
 "nbformat": 4,
 "nbformat_minor": 5
}
