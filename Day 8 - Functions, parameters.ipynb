{
 "cells": [
  {
   "cell_type": "code",
   "execution_count": 1,
   "id": "56a62db7",
   "metadata": {},
   "outputs": [
    {
     "name": "stdout",
     "output_type": "stream",
     "text": [
      "This is a function\n"
     ]
    }
   ],
   "source": [
    "# basic func\n",
    "def my_fun():\n",
    "    print(\"This is a function\")\n",
    "\n",
    "# call func\n",
    "my_fun()"
   ]
  },
  {
   "cell_type": "code",
   "execution_count": 2,
   "id": "81be6424",
   "metadata": {},
   "outputs": [
    {
     "data": {
      "text/plain": [
       "5"
      ]
     },
     "execution_count": 2,
     "metadata": {},
     "output_type": "execute_result"
    }
   ],
   "source": [
    "# func with parameters and arguments\n",
    "# x and y are parameters\n",
    "def add(x,y):\n",
    "    return x+y\n",
    "\n",
    "add(2,3) # 2 and 3 are arguments"
   ]
  },
  {
   "cell_type": "code",
   "execution_count": 3,
   "id": "c9092de0",
   "metadata": {},
   "outputs": [
    {
     "data": {
      "text/plain": [
       "6"
      ]
     },
     "execution_count": 3,
     "metadata": {},
     "output_type": "execute_result"
    }
   ],
   "source": [
    "\n",
    "def addNums(a,b,c):\n",
    "    return a+b+c\n",
    "\n",
    "addNums(2,3,1) # Positional args\n",
    "addNums(a=2,b=3,c=1) # Keyword args"
   ]
  },
  {
   "cell_type": "code",
   "execution_count": 4,
   "id": "998362a2",
   "metadata": {},
   "outputs": [
    {
     "name": "stdout",
     "output_type": "stream",
     "text": [
      "13\n",
      "It's a prime number.\n"
     ]
    }
   ],
   "source": [
    "# Write your code below this line 👇\n",
    "from math import sqrt\n",
    "def prime_checker(number):\n",
    "  isPrime = True\n",
    "  if number<=1:\n",
    "    isPrime = False\n",
    "  for i in range(2, int(sqrt(number))+1): \n",
    "    if number%i == 0:\n",
    "      isPrime = False\n",
    "  if(isPrime == True):\n",
    "    print(\"It's a prime number.\")\n",
    "  else:\n",
    "    print(\"It's not a prime number.\")\n",
    "\n",
    "\n",
    "\n",
    "# Write your code above this line 👆\n",
    "    \n",
    "#Do NOT change any of the code below👇\n",
    "n = int(input()) # Check this number\n",
    "prime_checker(number=n)"
   ]
  },
  {
   "cell_type": "code",
   "execution_count": 3,
   "id": "409d64e5",
   "metadata": {},
   "outputs": [
    {
     "name": "stdout",
     "output_type": "stream",
     "text": [
      "           \n",
      " ,adPPYba, ,adPPYYba,  ,adPPYba, ,adPPYba, ,adPPYYba, 8b,dPPYba,  \n",
      "a8\"     \"\" \"\"     `Y8 a8P_____88 I8[    \"\" \"\"     `Y8 88P'   \"Y8  \n",
      "8b         ,adPPPPP88 8PP\"  `\"Y8ba,  ,adPPPPP88 88          \n",
      "\"8a,   ,aa 88,    ,88 \"8b,   ,aa aa    ]8I 88,    ,88 88          \n",
      " `\"Ybbd8\"' `\"8bbdP\"Y8  `\"Ybbd8\"' `\"YbbdP\"' `\"8bbdP\"Y8 88   \n",
      "            88             88                                 \n",
      "           \"\"             88                                 \n",
      "                          88                                 \n",
      " ,adPPYba, 88 8b,dPPYba,  88,dPPYba,   ,adPPYba, 8b,dPPYba,  \n",
      "a8\"     \"\" 88 88P'    \"8a 88P'    \"8a a8P_____88 88P'   \"Y8  \n",
      "8b         88 88       d8 88       88 8PP\" 88          \n",
      "\"8a,   ,aa 88 88b,   ,a8\" 88       88 \"8b,   ,aa 88          \n",
      " `\"Ybbd8\"' 88 88`YbbdP\"'  88       88  `\"Ybbd8\"' 88          \n",
      "              88                                             \n",
      "              88           \n",
      "\n",
      "Type 'encode' to encrypt, type 'decode' to decrypt:\n",
      "encode\n",
      "Type your message:\n",
      "meet me at 10\n",
      "Type the shift number:\n",
      "6\n",
      "The encoded text is skkz sk gz 10\n",
      "Do you want to continue?yes or no: \n",
      "yes\n",
      "Type 'encode' to encrypt, type 'decode' to decrypt:\n",
      "encode\n",
      "Type your message:\n",
      "hbk kbkjbca jlnldlvha\n",
      "Type the shift number:\n",
      "9\n",
      "The encoded text is qkt tktsklj suwumueqj\n",
      "Do you want to continue?yes or no: \n",
      "no\n",
      "Thank You\n"
     ]
    }
   ],
   "source": [
    "# Ceaser cypher\n",
    "\n",
    "logo = \"\"\"           \n",
    " ,adPPYba, ,adPPYYba,  ,adPPYba, ,adPPYba, ,adPPYYba, 8b,dPPYba,  \n",
    "a8\"     \"\" \"\"     `Y8 a8P_____88 I8[    \"\" \"\"     `Y8 88P'   \"Y8  \n",
    "8b         ,adPPPPP88 8PP\"\"\"\"\"\"\"  `\"Y8ba,  ,adPPPPP88 88          \n",
    "\"8a,   ,aa 88,    ,88 \"8b,   ,aa aa    ]8I 88,    ,88 88          \n",
    " `\"Ybbd8\"' `\"8bbdP\"Y8  `\"Ybbd8\"' `\"YbbdP\"' `\"8bbdP\"Y8 88   \n",
    "            88             88                                 \n",
    "           \"\"             88                                 \n",
    "                          88                                 \n",
    " ,adPPYba, 88 8b,dPPYba,  88,dPPYba,   ,adPPYba, 8b,dPPYba,  \n",
    "a8\"     \"\" 88 88P'    \"8a 88P'    \"8a a8P_____88 88P'   \"Y8  \n",
    "8b         88 88       d8 88       88 8PP\"\"\"\"\"\"\" 88          \n",
    "\"8a,   ,aa 88 88b,   ,a8\" 88       88 \"8b,   ,aa 88          \n",
    " `\"Ybbd8\"' 88 88`YbbdP\"'  88       88  `\"Ybbd8\"' 88          \n",
    "              88                                             \n",
    "              88           \n",
    "\"\"\"\n",
    "\n",
    "#TODO-1: Import and print the logo from art.py when the program starts.\n",
    "print(logo)\n",
    "\n",
    "alphabet = ['a', 'b', 'c', 'd', 'e', 'f', 'g', 'h', 'i', 'j', 'k', 'l', 'm', 'n',\n",
    "            'o', 'p', 'q', 'r', 's', 't', 'u', 'v', 'w', 'x', 'y', 'z']\n",
    "\n",
    "#TODO-1: Create a function called 'encrypt' that takes the 'text' and 'shift' as inputs.\n",
    "\n",
    "def encrypt(text,shift):\n",
    "    \n",
    "    #TODO-2: Inside the 'encrypt' function, shift each letter of the 'text' forwards \n",
    "    #in the alphabet by the shift amount and print the encrypted text.  \n",
    "    #e.g. \n",
    "    #plain_text = \"hello\"\n",
    "    #shift = 5\n",
    "    #cipher_text = \"mjqqt\"\n",
    "    #print output: \"The encoded text is mjqqt\"\n",
    "    encrypted_text = \"\"\n",
    "    for idx in range(len(text)):\n",
    "        getIndex = alphabet.index(text[idx])\n",
    "        new_idx = (getIndex+shift)%len(alphabet)\n",
    "        encrypted_text += alphabet[new_idx]\n",
    "    print(f\"The encoded text is {encrypted_text}\")\n",
    "    ##HINT: How do you get the index of an item in a list:\n",
    "    #https://stackoverflow.com/questions/176918/finding-the-index-of-an-item-in-a-list\n",
    "\n",
    "    ##🐛Bug alert: What happens if you try to encode the word 'civilization'?🐛\n",
    "    \n",
    "#TODO-3: Call the encrypt function and pass in the user inputs.\n",
    "# You should be able to test the code and encrypt a message.\n",
    "# encrypt(text,shift)\n",
    "\n",
    "#TODO-1: Create a different function called 'decrypt' that takes the 'text' and 'shift' as inputs.\n",
    "def decrypt(text,shift):\n",
    "  #TODO-2: Inside the 'decrypt' function, shift each letter of the\n",
    "    #'text' *backwards* in the alphabet by the shift amount and print the decrypted text.  \n",
    "  #e.g. \n",
    "  #cipher_text = \"mjqqt\"\n",
    "  #shift = 5\n",
    "  #plain_text = \"hello\"\n",
    "  #print output: \"The decoded text is hello\"\n",
    "    decrypted_text = \"\"\n",
    "    for idx in range(len(text)):\n",
    "        getIndex = alphabet.index(text[idx])\n",
    "        new_idx = (getIndex-shift)%len(alphabet)\n",
    "        decrypted_text += alphabet[new_idx]\n",
    "    print(f\"The encoded text is {decrypted_text}\")\n",
    "\n",
    "#TODO-3: Check if the user wanted to encrypt or decrypt the message by checking the 'direction'\n",
    "# variable. Then call the correct function based on that 'direction' variable.\n",
    "# You should be able to test the code to encrypt *AND* decrypt a message.\n",
    "\n",
    "# if direction==\"encode\":\n",
    "#     encrypt(text,shift)\n",
    "# else:\n",
    "#     decrypt(text,shift)\n",
    "    \n",
    "    \n",
    "# Combine both and optimize code\n",
    "def ceaser(text,shift,direction):\n",
    "    cypherd_text = \"\"\n",
    "#     if direction==\"encode\":\n",
    "#         for idx in range(len(text)):\n",
    "#             getIndex = alphabet.index(text[idx])\n",
    "#             new_idx = (getIndex+shift)%len(alphabet)\n",
    "#             cypherd_text += alphabet[new_idx]\n",
    "#         print(f\"The encoded text is {cypherd_text}\")\n",
    "#     else:\n",
    "#         for idx in range(len(text)):\n",
    "#             getIndex = alphabet.index(text[idx])\n",
    "#             new_idx = (getIndex-shift)%len(alphabet)\n",
    "#             cypherd_text += alphabet[new_idx]\n",
    "#         print(f\"The encoded text is {cypherd_text}\")\n",
    "    if direction == \"decode\":\n",
    "            shift*=-1\n",
    "        \n",
    "    for idx in range(len(text)):\n",
    "        #TODO-3: What happens if the user enters a number/symbol/space?\n",
    "        #Can you fix the code to keep the number/symbol/space when the text is encoded/decoded?\n",
    "        #e.g. start_text = \"meet me at 3\"\n",
    "        #end_text = \"•••• •• •• 3\"\n",
    "        if text[idx].isalpha():\n",
    "            getIndex = alphabet.index(text[idx])\n",
    "            new_idx = (getIndex+shift)%len(alphabet)\n",
    "            cypherd_text += alphabet[new_idx]\n",
    "        else:\n",
    "            cypherd_text += text[idx]\n",
    "    print(f\"The {direction}d text is {cypherd_text}\")\n",
    "        \n",
    "        \n",
    "#TODO-4: Can you figure out a way to ask the user if they want to restart the cipher program?\n",
    "#e.g. Type 'yes' if you want to go again. Otherwise type 'no'.\n",
    "#If they type 'yes' then ask them for the direction/text/shift again\n",
    "# and call the caesar() function again?\n",
    "#Hint: Try creating a while loop that continues to execute the program if the user types 'yes'. \n",
    "\n",
    "isRestart=True\n",
    "\n",
    "while isRestart:\n",
    "    direction = input(\"Type 'encode' to encrypt, type 'decode' to decrypt:\\n\")\n",
    "    text = input(\"Type your message:\\n\").lower()\n",
    "    shift = int(input(\"Type the shift number:\\n\"))\n",
    "    \n",
    "    ceaser(text,shift,direction) # calling the function\n",
    "    should_continue = input(\"Do you want to continue?yes or no: \\n\")\n",
    "    if should_continue.lower() == \"no\":\n",
    "        isRestart=False\n",
    "        print(\"Thank You\")"
   ]
  },
  {
   "cell_type": "code",
   "execution_count": 6,
   "id": "2589d5ab",
   "metadata": {},
   "outputs": [
    {
     "name": "stdout",
     "output_type": "stream",
     "text": [
      "NO\n"
     ]
    }
   ],
   "source": [
    "alphabet = ['a', 'b', 'c', 'd', 'e', 'f', 'g', 'h', 'i', 'j', 'k', 'l', 'm', 'n',\n",
    "            'o', 'p', 'q', 'r', 's', 't', 'u', 'v', 'w', 'x', 'y', 'z']\n",
    "# print(5%len(alphabet))\n",
    "text=\" hello\"\n",
    "if text[0].isalpha():\n",
    "    print(\"Yes\")\n",
    "else:\n",
    "    print(\"NO\")"
   ]
  },
  {
   "cell_type": "code",
   "execution_count": null,
   "id": "ba130d46",
   "metadata": {},
   "outputs": [],
   "source": []
  }
 ],
 "metadata": {
  "kernelspec": {
   "display_name": "Python 3 (ipykernel)",
   "language": "python",
   "name": "python3"
  },
  "language_info": {
   "codemirror_mode": {
    "name": "ipython",
    "version": 3
   },
   "file_extension": ".py",
   "mimetype": "text/x-python",
   "name": "python",
   "nbconvert_exporter": "python",
   "pygments_lexer": "ipython3",
   "version": "3.9.18"
  }
 },
 "nbformat": 4,
 "nbformat_minor": 5
}
