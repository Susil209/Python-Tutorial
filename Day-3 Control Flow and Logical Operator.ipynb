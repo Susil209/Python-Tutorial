{
 "cells": [
  {
   "cell_type": "code",
   "execution_count": 6,
   "id": "57090eea",
   "metadata": {},
   "outputs": [
    {
     "name": "stdout",
     "output_type": "stream",
     "text": [
      "What is your height?(in cm) 221\n",
      "Yes,you can ride.\n",
      "What is your age?89\n",
      "You have to pay $12.\n",
      "Do you want photos?Type YES or NO ? y\n",
      "Total bill is $12\n"
     ]
    }
   ],
   "source": [
    "# if_else\n",
    "\n",
    "height = int(input(\"What is your height?(in cm) \"))\n",
    "bill = 0\n",
    "\n",
    "if height>120:\n",
    "    print(\"Yes,you can ride.\")\n",
    "    age = int(input(\"What is your age?\"))\n",
    "    if age < 12:\n",
    "        bill = 5\n",
    "        print(f\"You have to pay ${bill}.\")\n",
    "    elif age >=12 and age <= 18:\n",
    "        bill=7\n",
    "        print(f\"You have to pay ${bill}.\")\n",
    "    elif age>=45 and age<=55:\n",
    "        bill=0\n",
    "        print(f\"You have to pay ${bill}.\")\n",
    "    else:\n",
    "        bill=12\n",
    "        print(f\"You have to pay ${bill}.\")\n",
    "        \n",
    "    photo = input(\"Do you want photos?Type YES or NO ? \")\n",
    "    if(photo.lower() == \"yes\"):\n",
    "        bill+=3\n",
    "        print(f\"Add $3. Your total price is ${bill}\")\n",
    "    else:\n",
    "        print(f\"Total bill is ${bill}\")\n",
    "        \n",
    "else:\n",
    "    print(\"Sorry, not now.\")"
   ]
  },
  {
   "cell_type": "code",
   "execution_count": 11,
   "id": "8bdd8636",
   "metadata": {},
   "outputs": [
    {
     "name": "stdout",
     "output_type": "stream",
     "text": [
      "Welcome to treasure island.\n",
      "Your mission is to find the treasure.\n",
      "You're at a cross road. Where do you want to go? Type 'left' or 'right'left\n",
      "You come to a lake. There is an island in the middle of a lake. Type 'wait' to wait for the boat. Type 'swim' to swim across.wait\n",
      "You've arrived at the island unharmed. There is ahouse with 3 doors. One red,one yellow and one blue. Which color do you choose?blue\n",
      "Eaten by beasts. Game Over.\n"
     ]
    }
   ],
   "source": [
    "# Tresure Island\n",
    "print(\"Welcome to treasure island.\")\n",
    "print(\"Your mission is to find the treasure.\")\n",
    "\n",
    "left_or_right = input(\"You're at a cross road. Where do you want to go? Type 'left' or 'right'\")\n",
    "\n",
    "if left_or_right == \"left\":\n",
    "    swim_or_wait = input(\"You come to a lake. There is an island in the middle of a lake. Type 'wait' to wait for the boat. Type 'swim' to swim across.\")\n",
    "    if swim_or_wait == \"swim\":\n",
    "        print(\"Attacked by trout.Game Over.\")\n",
    "    else:\n",
    "        which_door = input(\"You've arrived at the island unharmed. There is ahouse with 3 doors. One red,one yellow and one blue. Which color do you choose?\")\n",
    "        if which_door == \"yellow\":\n",
    "            print(\"You win.\")\n",
    "        elif which_door == \"red\":\n",
    "            print(\"Burned by fire. Game Over.\")\n",
    "        elif which_door == \"blue\":\n",
    "            print(\"Eaten by beasts. Game Over.\")\n",
    "        else:\n",
    "            print(\"Game Over.\")\n",
    "else:\n",
    "    print(\"Fall into a hole.Game over.\")"
   ]
  }
 ],
 "metadata": {
  "kernelspec": {
   "display_name": "Python 3 (ipykernel)",
   "language": "python",
   "name": "python3"
  },
  "language_info": {
   "codemirror_mode": {
    "name": "ipython",
    "version": 3
   },
   "file_extension": ".py",
   "mimetype": "text/x-python",
   "name": "python",
   "nbconvert_exporter": "python",
   "pygments_lexer": "ipython3",
   "version": "3.9.18"
  }
 },
 "nbformat": 4,
 "nbformat_minor": 5
}
