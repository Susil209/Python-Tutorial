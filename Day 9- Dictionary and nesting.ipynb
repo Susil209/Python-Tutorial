{
 "cells": [
  {
   "cell_type": "code",
   "execution_count": 20,
   "id": "070a5b23",
   "metadata": {},
   "outputs": [
    {
     "name": "stdout",
     "output_type": "stream",
     "text": [
      "{'id': 1, 'name': 'susil', 'age': 24, 'isAvailable': True, 'courses': ['Python,Java']}\n",
      "susil\n",
      "{'id': 1, 'name': 'susil', 'age': 24, 'isAvailable': True, 'courses': ['Python,Java'], 'office': 'Chennai'}\n",
      "susil\n",
      "None\n",
      "not found\n"
     ]
    }
   ],
   "source": [
    "# dictionary\n",
    "user={\n",
    "    \"id\":1,\n",
    "    \"name\":\"susil\",\n",
    "    \"age\":24,\n",
    "    \"isAvailable\":True,\n",
    "    \"courses\":[\"Python,Java\"],\n",
    "}\n",
    "\n",
    "print(user)\n",
    "print(user[\"name\"])\n",
    "\n",
    "\n",
    "user[\"office\"]=\"Chennai\" \n",
    "print(user)\n",
    "\n",
    "# print(user[\"phone\"]) , KeyError: 'phone'\n",
    "print(user.get(\"name\"))\n",
    "print(user.get(\"phone\"))\n",
    "print(user.get(\"phone\",\"not found\"))"
   ]
  },
  {
   "cell_type": "code",
   "execution_count": 23,
   "id": "891608c7",
   "metadata": {},
   "outputs": [
    {
     "name": "stdout",
     "output_type": "stream",
     "text": [
      "Keys in a dictionary\n",
      "\n",
      "id\n",
      "name\n",
      "age\n",
      "isAvailable\n",
      "courses\n",
      "office\n",
      "-------------------------\n",
      "\n",
      "Values in a dict\n",
      "\n",
      "1\n",
      "susil\n",
      "24\n",
      "True\n",
      "['Python,Java']\n",
      "Chennai\n",
      "-------------------------\n",
      "\n",
      "Items in a dict\n",
      "\n",
      "('id', 1)\n",
      "('name', 'susil')\n",
      "('age', 24)\n",
      "('isAvailable', True)\n",
      "('courses', ['Python,Java'])\n",
      "('office', 'Chennai')\n"
     ]
    }
   ],
   "source": [
    "# loop\n",
    "\n",
    "print(\"Keys in a dictionary\\n\")\n",
    "# for key in user:\n",
    "#     print(key)\n",
    "    \n",
    "# or\n",
    "for item in user.keys():\n",
    "    print(item)\n",
    "    \n",
    "print(\"-------------------------\\n\")\n",
    "print(\"Values in a dict\\n\")    \n",
    "# for key in user:\n",
    "#     print(user[key])\n",
    "\n",
    "# or \n",
    "for value in user.values():\n",
    "    print(value)\n",
    "    \n",
    "print(\"-------------------------\\n\")\n",
    "print(\"Items in a dict\\n\")  \n",
    "\n",
    "for item in user.items():\n",
    "    print(item)"
   ]
  },
  {
   "cell_type": "code",
   "execution_count": 12,
   "id": "954aa5f4",
   "metadata": {},
   "outputs": [
    {
     "name": "stdout",
     "output_type": "stream",
     "text": [
      "dict_keys(['id', 'name', 'age', 'isAvailable', 'courses', 'office'])\n",
      "dict_values([1, 'susil', 24, True, ['Python,Java'], 'Chennai'])\n",
      "dict_items([('id', 1), ('name', 'susil'), ('age', 24), ('isAvailable', True), ('courses', ['Python,Java']), ('office', 'Chennai')])\n"
     ]
    }
   ],
   "source": [
    "# get keys\n",
    "print(user.keys())\n",
    "\n",
    "# get values\n",
    "print(user.values())\n",
    "\n",
    "# get items\n",
    "print(user.items())"
   ]
  },
  {
   "cell_type": "code",
   "execution_count": 14,
   "id": "d0d3b1c1",
   "metadata": {},
   "outputs": [
    {
     "name": "stdout",
     "output_type": "stream",
     "text": [
      "{'id': 200, 'name': 'susil', 'age': 24, 'isAvailable': True, 'courses': ['Python,Java'], 'office': 'Chennai'}\n"
     ]
    }
   ],
   "source": [
    "# update dict\n",
    "user.update({\"id\":200})\n",
    "print(user)"
   ]
  },
  {
   "cell_type": "code",
   "execution_count": 18,
   "id": "53343c7e",
   "metadata": {},
   "outputs": [
    {
     "name": "stdout",
     "output_type": "stream",
     "text": [
      "{'id': 200, 'name': 'susil', 'age': 24}\n",
      "{'id': 200, 'name': 'susil', 'age': 24}\n",
      "{'id': 200, 'name': 'susil', 'age': 24}\n",
      "{}\n"
     ]
    }
   ],
   "source": [
    "# delete item\n",
    "# user.pop(\"office\") #removes the item with the specified key name\n",
    "print(user)\n",
    "\n",
    "# user.popitem() #removes the last inserted item\n",
    "print(user)\n",
    "\n",
    "# del user[\"isAvailable\"] #removes the item with the specified key name\n",
    "print(user)\n",
    "\n",
    "# del user #delete the dictionary completely\n",
    "\n",
    "user.clear() #empties the dictionary\n",
    "print(user)"
   ]
  },
  {
   "cell_type": "code",
   "execution_count": 26,
   "id": "c6f5715a",
   "metadata": {},
   "outputs": [
    {
     "name": "stdout",
     "output_type": "stream",
     "text": [
      "{'id': 1, 'name': 'susil', 'age': 24, 'isAvailable': True, 'courses': ['Python,Java'], 'office': 'Chennai'}\n",
      "{'id': 1, 'name': 'susil', 'age': 24, 'isAvailable': True, 'courses': ['Python,Java'], 'office': 'Chennai'}\n",
      "{'id': 1, 'name': 'susil', 'age': 89, 'isAvailable': True, 'courses': ['Python,Java'], 'office': 'Chennai'}\n",
      "{'id': 1, 'name': 'susil', 'age': 89, 'isAvailable': True, 'courses': ['Python,Java'], 'office': 'Chennai'}\n"
     ]
    }
   ],
   "source": [
    "# copy a dict\n",
    "print(user)\n",
    "\n",
    "new_user = user # deep copy\n",
    "print(new_user)\n",
    "\n",
    "user[\"age\"] = 89\n",
    "print(user)\n",
    "print(new_user)"
   ]
  },
  {
   "cell_type": "code",
   "execution_count": 28,
   "id": "4c691364",
   "metadata": {},
   "outputs": [
    {
     "name": "stdout",
     "output_type": "stream",
     "text": [
      "{'id': 1, 'name': 'susil', 'age': 89, 'isAvailable': True, 'courses': ['Python,Java'], 'office': 'Chennai'}\n",
      "{'id': 19, 'name': 'susil', 'age': 89, 'isAvailable': True, 'courses': ['Python,Java'], 'office': 'Chennai'}\n",
      "{'id': 1, 'name': 'susil', 'age': 89, 'isAvailable': True, 'courses': ['Python,Java'], 'office': 'Chennai'}\n"
     ]
    }
   ],
   "source": [
    "# shallow copy\n",
    "\n",
    "my_user = user.copy()\n",
    "print(my_user)\n",
    "\n",
    "# or my_user = dict(user)\n",
    "\n",
    "user[\"id\"]=19\n",
    "print(user)\n",
    "print(my_user)"
   ]
  },
  {
   "cell_type": "code",
   "execution_count": 29,
   "id": "1714949f",
   "metadata": {},
   "outputs": [
    {
     "name": "stdout",
     "output_type": "stream",
     "text": [
      "{'id': 19, 'name': 'susil', 'age': 89, 'isAvailable': True, 'courses': ['Python,Java'], 'office': 'Chennai', 'address': {'city': 'Mumbai', 'state': 'Maharastra', 'zipcode': '877199'}}\n"
     ]
    }
   ],
   "source": [
    "# Nesting dict\n",
    "\n",
    "# address={\n",
    "#     \"city\":\"Mumbai\",\n",
    "#     \"state\":\"Maharastra\",\n",
    "#     \"zipcode\":\"877199\"\n",
    "# }\n",
    "\n",
    "user[\"address\"]={\n",
    "    \"city\":\"Mumbai\",\n",
    "    \"state\":\"Maharastra\",\n",
    "    \"zipcode\":\"877199\"\n",
    "}\n",
    "\n",
    "print(user)"
   ]
  },
  {
   "cell_type": "code",
   "execution_count": 32,
   "id": "1c320293",
   "metadata": {},
   "outputs": [
    {
     "name": "stdout",
     "output_type": "stream",
     "text": [
      "[{'id': 19, 'name': 'susil', 'age': 89, 'isAvailable': True, 'courses': ['Python,Java'], 'office': 'Chennai', 'address': {'city': 'Mumbai', 'state': 'Maharastra', 'zipcode': '877199'}}, {'id': 2, 'name': 'akash', 'age': 24, 'isAvailable': True, 'courses': ['Python,Java'], 'office': 'Mumbai'}]\n",
      "------------------------\n",
      "{'id': 19, 'name': 'susil', 'age': 89, 'isAvailable': True, 'courses': ['Python,Java'], 'office': 'Chennai', 'address': {'city': 'Mumbai', 'state': 'Maharastra', 'zipcode': '877199'}}\n",
      "{'id': 2, 'name': 'akash', 'age': 24, 'isAvailable': True, 'courses': ['Python,Java'], 'office': 'Mumbai'}\n"
     ]
    }
   ],
   "source": [
    "# nesting dict in a list\n",
    "\n",
    "user1= {'id': 2, 'name': 'akash', 'age': 24, 'isAvailable': True, 'courses': ['Python,Java'], 'office': 'Mumbai'}\n",
    "\n",
    "user_list = [user,user1]\n",
    "print(user_list)\n",
    "\n",
    "print(\"------------------------\")\n",
    "print(user_list[0])\n",
    "print(user_list[1])"
   ]
  },
  {
   "cell_type": "code",
   "execution_count": 35,
   "id": "c2de6e75",
   "metadata": {},
   "outputs": [
    {
     "name": "stdout",
     "output_type": "stream",
     "text": [
      "Steak\n"
     ]
    }
   ],
   "source": [
    "order = {\n",
    "    \"starter\": {1: \"Salad\", 2: \"Soup\"},\n",
    "    \"main\": {1: [\"Burger\", \"Fries\"], 2: [\"Steak\"]},\n",
    "    \"dessert\": {1: [\"Ice Cream\"], 2: []},\n",
    "}\n",
    "\n",
    "print(order[\"main\"][2][0])"
   ]
  },
  {
   "cell_type": "code",
   "execution_count": 4,
   "id": "663c6c15",
   "metadata": {},
   "outputs": [
    {
     "name": "stdout",
     "output_type": "stream",
     "text": [
      "Enter your name:alok\n",
      "Enter your bid:$300\n",
      "Are there any other bidder?(yes or no):no\n",
      "Max bidding price is $300\n"
     ]
    }
   ],
   "source": [
    "# Secret Auction\n",
    "\n",
    "from IPython.display import clear_output\n",
    "\n",
    "logo = '''\n",
    "                         ___________\n",
    "                         \\         /\n",
    "                          )_______(\n",
    "                          |\"\"\"\"\"\"\"|_.-._,.---------.,_.-._\n",
    "                          |       | | |               | | ''-.\n",
    "                          |       |_| |_             _| |_..-'\n",
    "                          |_______| '-' `'---------'` '-'\n",
    "                          )\"\"\"\"\"\"\"(\n",
    "                         /_________\\\\\n",
    "                       .-------------.\n",
    "                      /_______________\\\\\n",
    "'''\n",
    "\n",
    "print(logo)\n",
    "\n",
    "usersPresent=True\n",
    "bidding={}\n",
    "\n",
    "def declare_winner(bidding):\n",
    "    maxbid = 0\n",
    "    for price in bidding.values():\n",
    "        if(price >= maxbid):\n",
    "            maxbid = price\n",
    "    print(f\"Max bidding price is ${maxbid}\")\n",
    "\n",
    "while usersPresent:\n",
    "    name=input(\"Enter your name:\")\n",
    "    bid=int(input(\"Enter your bid:$\"))\n",
    "    bidding[name]=bid\n",
    "    \n",
    "    otherBidder=input(\"Are there any other bidder?(yes or no):\")\n",
    "    if(otherBidder.lower()==\"yes\"):\n",
    "        clear_output(wait=False)\n",
    "    else:\n",
    "        declare_winner(bidding)\n",
    "        usersPresent=False\n",
    "\n"
   ]
  },
  {
   "cell_type": "code",
   "execution_count": null,
   "id": "79be6ff5",
   "metadata": {},
   "outputs": [],
   "source": []
  }
 ],
 "metadata": {
  "kernelspec": {
   "display_name": "Python 3 (ipykernel)",
   "language": "python",
   "name": "python3"
  },
  "language_info": {
   "codemirror_mode": {
    "name": "ipython",
    "version": 3
   },
   "file_extension": ".py",
   "mimetype": "text/x-python",
   "name": "python",
   "nbconvert_exporter": "python",
   "pygments_lexer": "ipython3",
   "version": "3.9.18"
  }
 },
 "nbformat": 4,
 "nbformat_minor": 5
}
