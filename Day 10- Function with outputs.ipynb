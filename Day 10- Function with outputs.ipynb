{
 "cells": [
  {
   "cell_type": "code",
   "execution_count": 1,
   "id": "ea0d633b",
   "metadata": {},
   "outputs": [
    {
     "data": {
      "text/plain": [
       "5"
      ]
     },
     "execution_count": 1,
     "metadata": {},
     "output_type": "execute_result"
    }
   ],
   "source": [
    "# Docstring\n",
    "# To give documentation to a function\n",
    "\n",
    "def addition(n1,n2):\n",
    "    \"\"\"Return arithmetic addition of two numbers\"\"\"\n",
    "    return n1+n2\n",
    "\n",
    "addition(2,3)\n",
    "\n"
   ]
  },
  {
   "cell_type": "code",
   "execution_count": 4,
   "id": "092b6e44",
   "metadata": {},
   "outputs": [
    {
     "name": "stdout",
     "output_type": "stream",
     "text": [
      "\n",
      " _____________________\n",
      "|  _________________  |\n",
      "| | Pythonista   0. | |  .----------------.  .----------------.  .----------------.  .----------------. \n",
      "| |_________________| | | .--------------. || .--------------. || .--------------. || .--------------. |\n",
      "|  ___ ___ ___   ___  | | |     ______   | || |      __      | || |   _____      | || |     ______   | |\n",
      "| | 7 | 8 | 9 | | + | | | |   .' ___  |  | || |     /  \\     | || |  |_   _|     | || |   .' ___  |  | |\n",
      "| |___|___|___| |___| | | |  / .'   \\_|  | || |    / /\\ \\    | || |    | |       | || |  / .'   \\_|  | |\n",
      "| | 4 | 5 | 6 | | - | | | |  | |         | || |   / ____ \\   | || |    | |   _   | || |  | |         | |\n",
      "| |___|___|___| |___| | | |  \\ `.___.'\\  | || | _/ /    \\ \\_ | || |   _| |__/ |  | || |  \\ `.___.'\\  | |\n",
      "| | 1 | 2 | 3 | | x | | | |   `._____.'  | || ||____|  |____|| || |  |________|  | || |   `._____.'  | |\n",
      "| |___|___|___| |___| | | |              | || |              | || |              | || |              | |\n",
      "| | . | 0 | = | | / | | | '--------------' || '--------------' || '--------------' || '--------------' |\n",
      "| |___|___|___| |___| |  '----------------'  '----------------'  '----------------'  '----------------' \n",
      "|_____________________|\n",
      "\n",
      "Enter the first number:3.3\n",
      "+\n",
      "-\n",
      "*\n",
      "/\n",
      "Pick an operator:+\n",
      "What's the next number:2.7\n",
      "3.3 + 2.7 = 6.0\n",
      "Type 'y' to continue with 6.0,or type 'n' to start a new calculation, type 'exit' to exit out of the program: exit\n",
      "Happy coding.....\n"
     ]
    }
   ],
   "source": [
    "# Calculator\n",
    "logo = \"\"\"\n",
    " _____________________\n",
    "|  _________________  |\n",
    "| | Pythonista   0. | |  .----------------.  .----------------.  .----------------.  .----------------. \n",
    "| |_________________| | | .--------------. || .--------------. || .--------------. || .--------------. |\n",
    "|  ___ ___ ___   ___  | | |     ______   | || |      __      | || |   _____      | || |     ______   | |\n",
    "| | 7 | 8 | 9 | | + | | | |   .' ___  |  | || |     /  \\     | || |  |_   _|     | || |   .' ___  |  | |\n",
    "| |___|___|___| |___| | | |  / .'   \\_|  | || |    / /\\ \\    | || |    | |       | || |  / .'   \\_|  | |\n",
    "| | 4 | 5 | 6 | | - | | | |  | |         | || |   / ____ \\   | || |    | |   _   | || |  | |         | |\n",
    "| |___|___|___| |___| | | |  \\ `.___.'\\  | || | _/ /    \\ \\_ | || |   _| |__/ |  | || |  \\ `.___.'\\  | |\n",
    "| | 1 | 2 | 3 | | x | | | |   `._____.'  | || ||____|  |____|| || |  |________|  | || |   `._____.'  | |\n",
    "| |___|___|___| |___| | | |              | || |              | || |              | || |              | |\n",
    "| | . | 0 | = | | / | | | '--------------' || '--------------' || '--------------' || '--------------' |\n",
    "| |___|___|___| |___| |  '----------------'  '----------------'  '----------------'  '----------------' \n",
    "|_____________________|\n",
    "\"\"\"\n",
    "\n",
    "print(logo)\n",
    "\n",
    "def calculate(x,op,y):\n",
    "    if op == \"+\":\n",
    "        return x+y\n",
    "    elif op == \"-\":\n",
    "        return x-y\n",
    "    elif op == \"*\":\n",
    "        return x*y\n",
    "    elif op == \"/\":\n",
    "        return x/y\n",
    "\n",
    "newCalc = True\n",
    "while newCalc:\n",
    "    first_num = float(input(\"Enter the first number:\"))\n",
    "    print(\"+\")\n",
    "    print(\"-\")\n",
    "    print(\"*\")\n",
    "    print(\"/\")\n",
    "    \n",
    "    isOver = True\n",
    "    while isOver:\n",
    "        operator = input(\"Pick an operator:\")\n",
    "        next_num = float(input(\"What's the next number:\"))\n",
    "        result = calculate(first_num,operator,next_num)\n",
    "        print(f\"{first_num} {operator} {next_num} = {result}\")\n",
    "\n",
    "        want_to_continue = input(f\"Type 'y' to continue with {result},or type 'n' to start a new calculation, type 'exit' to exit out of the program: \")\n",
    "\n",
    "        if want_to_continue == 'y':\n",
    "            first_num=result\n",
    "        elif want_to_continue == 'n':\n",
    "            isOver = False\n",
    "        elif want_to_continue == \"exit\":\n",
    "            isOver = False\n",
    "            newCalc = False\n",
    "            print(\"Happy coding.....\")\n",
    "    "
   ]
  },
  {
   "cell_type": "code",
   "execution_count": null,
   "id": "c5cfc528",
   "metadata": {},
   "outputs": [],
   "source": []
  }
 ],
 "metadata": {
  "kernelspec": {
   "display_name": "Python 3 (ipykernel)",
   "language": "python",
   "name": "python3"
  },
  "language_info": {
   "codemirror_mode": {
    "name": "ipython",
    "version": 3
   },
   "file_extension": ".py",
   "mimetype": "text/x-python",
   "name": "python",
   "nbconvert_exporter": "python",
   "pygments_lexer": "ipython3",
   "version": "3.9.18"
  }
 },
 "nbformat": 4,
 "nbformat_minor": 5
}
