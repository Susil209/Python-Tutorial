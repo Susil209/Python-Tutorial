{
 "cells": [
  {
   "cell_type": "code",
   "execution_count": 1,
   "id": "2efa8a6c",
   "metadata": {},
   "outputs": [
    {
     "name": "stdout",
     "output_type": "stream",
     "text": [
      "100\n"
     ]
    }
   ],
   "source": [
    "# local scope\n",
    "\n",
    "def fun():\n",
    "    x=100\n",
    "    print(x)\n",
    "    \n",
    "fun()"
   ]
  },
  {
   "cell_type": "code",
   "execution_count": 2,
   "id": "887ddbf3",
   "metadata": {},
   "outputs": [
    {
     "name": "stdout",
     "output_type": "stream",
     "text": [
      "10\n"
     ]
    }
   ],
   "source": [
    "# enclosing function\n",
    "\n",
    "def outer():\n",
    "    x=10\n",
    "    def inner():\n",
    "        print(x)\n",
    "    inner()\n",
    "outer()\n"
   ]
  },
  {
   "cell_type": "code",
   "execution_count": 3,
   "id": "a1754d5e",
   "metadata": {},
   "outputs": [
    {
     "name": "stdout",
     "output_type": "stream",
     "text": [
      "999\n"
     ]
    }
   ],
   "source": [
    "# global scope\n",
    "x=999\n",
    "\n",
    "def my_fun():\n",
    "    print(x)\n",
    "my_fun()"
   ]
  },
  {
   "cell_type": "code",
   "execution_count": 5,
   "id": "bee684ef",
   "metadata": {},
   "outputs": [
    {
     "name": "stdout",
     "output_type": "stream",
     "text": [
      "inner x=888\n",
      "outer x=999\n"
     ]
    }
   ],
   "source": [
    "x=999\n",
    "\n",
    "def my_fun():\n",
    "    x=888\n",
    "    print(f\"inner x={x}\")\n",
    "\n",
    "my_fun()\n",
    "print(f\"outer x={x}\")"
   ]
  },
  {
   "cell_type": "code",
   "execution_count": 6,
   "id": "ffc822f3",
   "metadata": {},
   "outputs": [
    {
     "name": "stdout",
     "output_type": "stream",
     "text": [
      "inner x=888\n",
      "outer x=888\n"
     ]
    }
   ],
   "source": [
    "x=999\n",
    "\n",
    "def my_fun1():\n",
    "    global x\n",
    "    x=888\n",
    "    print(f\"inner x={x}\")\n",
    "\n",
    "my_fun1()\n",
    "print(f\"outer x={x}\")"
   ]
  },
  {
   "cell_type": "code",
   "execution_count": 7,
   "id": "bbfc70ac",
   "metadata": {},
   "outputs": [
    {
     "name": "stdout",
     "output_type": "stream",
     "text": [
      "899\n"
     ]
    }
   ],
   "source": [
    "# block scope\n",
    "a=900\n",
    "if a>90:\n",
    "    b=899\n",
    "\n",
    "print(b)"
   ]
  },
  {
   "cell_type": "code",
   "execution_count": 10,
   "id": "e57a78c6",
   "metadata": {},
   "outputs": [
    {
     "name": "stdout",
     "output_type": "stream",
     "text": [
      "50\n"
     ]
    }
   ],
   "source": [
    "i = 50\n",
    "def foo():\n",
    "    i = 100\n",
    "    return i\n",
    " \n",
    "foo()\n",
    "print(i)"
   ]
  },
  {
   "cell_type": "markdown",
   "id": "1bed2e10",
   "metadata": {},
   "source": [
    "Guess The Number\n",
    "--------------------------------"
   ]
  },
  {
   "cell_type": "code",
   "execution_count": 1,
   "id": "73d11aae",
   "metadata": {},
   "outputs": [
    {
     "name": "stdout",
     "output_type": "stream",
     "text": [
      "\n",
      "\n",
      "   ___                       _____ _                __                 _               \n",
      "  / _ \\_   _  ___  ___ ___  /__   \\ |__   ___    /\\ \\ \\_   _ _ __ ___ | |__   ___ _ __ \n",
      " / /_\\/ | | |/ _ \\/ __/ __|   / /\\/ '_ \\ / _ \\  /  \\/ / | | | '_ ` _ \\| '_ \\ / _ \\ '__|\n",
      "/ /_\\| |_| |  __/\\__ \\__ \\  / /  | | | |  __/ / /\\  /| |_| | | | | | | |_) |  __/ |   \n",
      "\\____/ \\__,_|\\___||___/___/  \\/   |_| |_|\\___| \\_\\ \\/  \\__,_|_| |_| |_|_.__/ \\___|_|   \n",
      "                                                                                       \n",
      "\n",
      "\n",
      "Welcome to number guessing game\n",
      "I'm guessing a number in between 1 and 100\n",
      "Choose a difficulty 'easy' or 'hard':easy\n",
      "Make a guess:90\n",
      "Too high!\n",
      "You have 9 attempts remaining to guess the number\n",
      "Make a guess:70\n",
      "Too high!\n",
      "You have 8 attempts remaining to guess the number\n",
      "Make a guess:50\n",
      "Too high!\n",
      "You have 7 attempts remaining to guess the number\n",
      "Make a guess:30\n",
      "Too high!\n",
      "You have 6 attempts remaining to guess the number\n",
      "Make a guess:20\n",
      "Too low\n",
      "You have 5 attempts remaining to guess the number\n",
      "Make a guess:25\n",
      "Too low\n",
      "You have 4 attempts remaining to guess the number\n",
      "Make a guess:27\n",
      "Too low\n",
      "You have 3 attempts remaining to guess the number\n",
      "Make a guess:29\n",
      "Too high!\n",
      "You have 2 attempts remaining to guess the number\n",
      "Make a guess:28\n",
      "You guessed it right!! The answer is 28\n",
      "You have exhaused all attempts.The number is 28\n"
     ]
    }
   ],
   "source": [
    "import random\n",
    "\n",
    "logo = \"\"\"\n",
    "\n",
    "   ___                       _____ _                __                 _               \n",
    "  / _ \\_   _  ___  ___ ___  /__   \\ |__   ___    /\\ \\ \\_   _ _ __ ___ | |__   ___ _ __ \n",
    " / /_\\/ | | |/ _ \\/ __/ __|   / /\\/ '_ \\ / _ \\  /  \\/ / | | | '_ ` _ \\| '_ \\ / _ \\ '__|\n",
    "/ /_\\\\| |_| |  __/\\__ \\__ \\  / /  | | | |  __/ / /\\  /| |_| | | | | | | |_) |  __/ |   \n",
    "\\____/ \\__,_|\\___||___/___/  \\/   |_| |_|\\___| \\_\\ \\/  \\__,_|_| |_| |_|_.__/ \\___|_|   \n",
    "                                                                                       \n",
    "\n",
    "\"\"\"\n",
    "\n",
    "print(logo)\n",
    "print(\"Welcome to number guessing game\")\n",
    "print(\"I'm guessing a number in between 1 and 100\")\n",
    "actual_num = random.randint(1,100)\n",
    "\n",
    "difficulty = input(\"Choose a difficulty 'easy' or 'hard':\")\n",
    "num_of_guesses=10\n",
    "\n",
    "if difficulty=='hard':\n",
    "    num_of_guesses=5\n",
    "    \n",
    "while num_of_guesses!=0:\n",
    "    guessed_num = int(input(\"Make a guess:\"))\n",
    "    \n",
    "    if guessed_num==actual_num:\n",
    "        print(f\"You guessed it right!! The answer is {actual_num}\")\n",
    "        break\n",
    "    elif guessed_num>actual_num:\n",
    "        print(\"Too high!\")\n",
    "        num_of_guesses -= 1\n",
    "        print(f\"You have {num_of_guesses} attempts remaining to guess the number\")\n",
    "    elif guessed_num<actual_num:\n",
    "        print(\"Too low\")\n",
    "        num_of_guesses -= 1\n",
    "        print(f\"You have {num_of_guesses} attempts remaining to guess the number\")\n",
    "\n",
    "if num_of_guesses==0:\n",
    "    print(f\"You have exhaused all attempts.The number is {actual_num}\")"
   ]
  },
  {
   "cell_type": "markdown",
   "id": "6c45d91c",
   "metadata": {},
   "source": [
    "# Debug the code"
   ]
  },
  {
   "cell_type": "code",
   "execution_count": 38,
   "id": "f173650f",
   "metadata": {},
   "outputs": [
    {
     "name": "stdout",
     "output_type": "stream",
     "text": [
      "[2, 4, 6, 10, 16, 26]\n"
     ]
    }
   ],
   "source": [
    "############DEBUGGING#####################\n",
    "\n",
    "# # Describe Problem\n",
    "# def my_function():\n",
    "#     for i in range(1, 21):\n",
    "#         if i == 20:\n",
    "#             print(\"You got it\")\n",
    "# my_function()\n",
    "\n",
    "# Reproduce the Bug\n",
    "# from random import randint\n",
    "# dice_imgs = [\"❶\", \"❷\", \"❸\", \"❹\", \"❺\", \"❻\"]\n",
    "# dice_num = randint(0, 5)\n",
    "# print(dice_imgs[dice_num])\n",
    "\n",
    "# # Play Computer\n",
    "# year = int(input(\"What's your year of birth?\"))\n",
    "# if year > 1980 and year <= 1994:\n",
    "#   print(\"You are a millenial.\")\n",
    "# elif year > 1994:\n",
    "#   print(\"You are a Gen Z.\")\n",
    "\n",
    "# Fix the Errors\n",
    "# age = input(\"How old are you?\")\n",
    "# if age > 18:\n",
    "#     print(\"You can drive at age {age}.\")\n",
    "\n",
    "#Print is Your Friend\n",
    "# pages = 0\n",
    "# word_per_page = 0\n",
    "# pages = int(input(\"Number of pages: \"))\n",
    "# word_per_page = int(input(\"Number of words per page: \"))\n",
    "# total_words = pages * word_per_page\n",
    "# print(total_words)\n",
    "\n",
    "# #Use a Debugger\n",
    "def mutate(a_list):\n",
    "    b_list = []\n",
    "    for item in a_list:\n",
    "        new_item = item * 2\n",
    "        b_list.append(new_item)\n",
    "    print(b_list)\n",
    "\n",
    "mutate([1,2,3,5,8,13])"
   ]
  },
  {
   "cell_type": "code",
   "execution_count": null,
   "id": "49fca9d2",
   "metadata": {},
   "outputs": [],
   "source": []
  }
 ],
 "metadata": {
  "kernelspec": {
   "display_name": "Python 3 (ipykernel)",
   "language": "python",
   "name": "python3"
  },
  "language_info": {
   "codemirror_mode": {
    "name": "ipython",
    "version": 3
   },
   "file_extension": ".py",
   "mimetype": "text/x-python",
   "name": "python",
   "nbconvert_exporter": "python",
   "pygments_lexer": "ipython3",
   "version": "3.9.18"
  }
 },
 "nbformat": 4,
 "nbformat_minor": 5
}
