{
 "cells": [
  {
   "cell_type": "code",
   "execution_count": 19,
   "id": "433e36aa",
   "metadata": {},
   "outputs": [
    {
     "name": "stdout",
     "output_type": "stream",
     "text": [
      "The value of a is 10 and b is 20\n",
      "Total students : 240, Boys : 120\n",
      "    031\n",
      "Geeks :  1, Portal : 5.33\n",
      " 3.561E+02\n",
      "Number one portal is Geeks, For, and Geeks.\n",
      "Geeks :12, Portal :    0.55\n",
      "Second argument:  11, first one:   47.42\n",
      "Geeks :   453, Portal :    59.06\n"
     ]
    }
   ],
   "source": [
    "# output formatting\n",
    "a,b=10,20\n",
    "\n",
    "print(\"The value of a is {} and b is {}\".format(a,b))\n",
    "\n",
    "print(\"Total students : %3d, Boys : %2d\" % (240,120))\n",
    "\n",
    "# print octal\n",
    "print(\"%7.3o\" % 25)\n",
    "\n",
    "print(\"Geeks : %2d, Portal :%5.2f\" % (1, 05.333)) \n",
    "\n",
    "# print exponential\n",
    "print(\"%10.3E\" % (356.08977))\n",
    "\n",
    "\n",
    "\n",
    "# combining positional and keyword arguments\n",
    "print('Number one portal is {0}, {1}, and {other}.'\n",
    "     .format('Geeks', 'For', other ='Geeks'))\n",
    " \n",
    "# using format() method with number \n",
    "print(\"Geeks :{0:2d}, Portal :{1:8.2f}\".format(12, 00.546))\n",
    "\n",
    "# Changing positional argument\n",
    "print(\"Second argument: {1:3d}, first one: {0:7.2f}\".format(47.42, 11))\n",
    "\n",
    "print(\"Geeks : {a:5d}, Portal : {p:8.2f}\".format(a=453, p=59.058))"
   ]
  },
  {
   "cell_type": "code",
   "execution_count": null,
   "id": "4cacfbd5",
   "metadata": {},
   "outputs": [],
   "source": []
  }
 ],
 "metadata": {
  "kernelspec": {
   "display_name": "Python 3 (ipykernel)",
   "language": "python",
   "name": "python3"
  },
  "language_info": {
   "codemirror_mode": {
    "name": "ipython",
    "version": 3
   },
   "file_extension": ".py",
   "mimetype": "text/x-python",
   "name": "python",
   "nbconvert_exporter": "python",
   "pygments_lexer": "ipython3",
   "version": "3.9.18"
  }
 },
 "nbformat": 4,
 "nbformat_minor": 5
}
