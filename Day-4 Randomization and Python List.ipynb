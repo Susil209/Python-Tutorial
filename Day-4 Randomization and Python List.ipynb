{
 "cells": [
  {
   "cell_type": "code",
   "execution_count": 1,
   "id": "edb8ae2b",
   "metadata": {},
   "outputs": [
    {
     "name": "stdout",
     "output_type": "stream",
     "text": [
      "5.0\n",
      "3.141592653589793\n",
      "114.59155902616465\n",
      "1.0471975511965976\n",
      "0.9092974268256817\n",
      "0.8775825618903728\n",
      "0.23414336235146527\n",
      "24\n",
      "0\n",
      "0.02706695159391026\n",
      "37.24547089879508\n",
      "python\n",
      "1706371166.0380526\n",
      "1970-01-06\n"
     ]
    }
   ],
   "source": [
    "# Python built-in modules\n",
    "\n",
    "# importing built-in module math\n",
    "import math\n",
    "\n",
    "# using square root(sqrt) function contained \n",
    "# in math module\n",
    "print(math.sqrt(25)) \n",
    "\n",
    "# using pi function contained in math module\n",
    "print(math.pi) \n",
    "\n",
    "# 2 radians = 114.59 degrees\n",
    "print(math.degrees(2)) \n",
    "\n",
    "# 60 degrees = 1.04 radians\n",
    "print(math.radians(60)) \n",
    "\n",
    "# Sine of 2 radians\n",
    "print(math.sin(2)) \n",
    "\n",
    "# Cosine of 0.5 radians\n",
    "print(math.cos(0.5)) \n",
    "\n",
    "# Tangent of 0.23 radians\n",
    "print(math.tan(0.23)) \n",
    "\n",
    "# 1 * 2 * 3 * 4 = 24\n",
    "print(math.factorial(4)) \n",
    "\n",
    "# importing built in module random\n",
    "import random\n",
    "\n",
    "# printing random integer between 0 and 5\n",
    "print(random.randint(0, 5)) \n",
    "\n",
    "# print random floating point number between 0 and 1\n",
    "print(random.random()) \n",
    "\n",
    "# random number between 0 and 100\n",
    "print(random.random() * 100) \n",
    "\n",
    "List = [1, 4, True, 800, \"python\", 27, \"hello\"]\n",
    "\n",
    "# using choice function in random module for choosing \n",
    "# a random element from a set such as a list\n",
    "print(random.choice(List)) \n",
    "\n",
    "\n",
    "# importing built in module datetime\n",
    "import datetime\n",
    "from datetime import date\n",
    "import time\n",
    "\n",
    "# Returns the number of seconds since the\n",
    "# Unix Epoch, January 1st 1970\n",
    "print(time.time()) \n",
    "\n",
    "# Converts a number of seconds to a date object\n",
    "print(date.fromtimestamp(454554)) \n"
   ]
  },
  {
   "cell_type": "code",
   "execution_count": 9,
   "id": "073c14a3",
   "metadata": {},
   "outputs": [
    {
     "name": "stdout",
     "output_type": "stream",
     "text": [
      "ValueError on randrange() since start > stop\n",
      "ValueError on randint() since 200 > 100\n",
      "i = 100  and j = 200000000.0\n",
      "randrange() generated number: 94219778\n",
      "randint() generated number: 144\n",
      "--------------------------------------------\n",
      "Before shuffling [0, 1, 1, 0, 4, 3, 2, 0, 4, 6]\n",
      "After shuffling [1, 4, 1, 6, 3, 0, 4, 2, 0, 0]\n",
      "['one', 'eleven', 'twelve', 'five', 'six', 'ten']\n",
      "eleven\n",
      "one\n",
      "five\n",
      "twelve\n",
      "six\n",
      "\n",
      "random sample: ['five', 'twelve']\n",
      "random sample: ['five', 'eleven']\n",
      "random sample: ['twelve', 'eleven']\n",
      "0.6044176958185403\n",
      "3.891561144769782\n",
      "0.12964143251196883\n",
      "8\n",
      "38\n",
      "win\n",
      "['ace', 'three', 'four', 'two']\n",
      "[40, 20, 50, 30]\n"
     ]
    }
   ],
   "source": [
    "# Random module\n",
    "import random\n",
    " \n",
    "i = 100\n",
    "j = 20e7\n",
    " \n",
    "# Generates a random number between i and j\n",
    "a = random.randrange(i, j)\n",
    "try:\n",
    "    b = random.randrange(j, i)\n",
    "except ValueError:\n",
    "    print('ValueError on randrange() since start > stop')\n",
    " \n",
    "c = random.randint(100, 200)\n",
    "try:\n",
    "    d = random.randint(200, 100)\n",
    "except ValueError:\n",
    "    print('ValueError on randint() since 200 > 100')\n",
    " \n",
    "print('i =', i, ' and j =', j)\n",
    "print('randrange() generated number:', a)\n",
    "print('randint() generated number:', c)\n",
    "\n",
    "print('--------------------------------------------')\n",
    "# random.shuffle(x)\n",
    "sequence = [random.randint(0, i) for i in range(10)]\n",
    " \n",
    "print('Before shuffling', sequence)\n",
    " \n",
    "random.shuffle(sequence)\n",
    " \n",
    "print('After shuffling', sequence)\n",
    "\n",
    "# chioce\n",
    "a = ['one', 'eleven', 'twelve', 'five', 'six', 'ten']\n",
    " \n",
    "print(a)\n",
    " \n",
    "for i in range(5):\n",
    "    print(random.choice(a))\n",
    "    \n",
    "# sample\n",
    "print()\n",
    "\n",
    "for i in range(3):\n",
    "    b = random.sample(a, 2)\n",
    "    print('random sample:', b)\n",
    "    \n",
    "    \n",
    "print(random.random())                          # Random float:  0.0 <= x < 1.0\n",
    "\n",
    "\n",
    "print(random.uniform(2.5, 10.0))                # Random float:  2.5 <= x <= 10.0\n",
    "\n",
    "\n",
    "print(random.expovariate(1 / 5))                # Interval between arrivals averaging 5 seconds\n",
    "\n",
    "\n",
    "print(random.randrange(10))                     # Integer from 0 to 9 inclusive\n",
    "\n",
    "\n",
    "print(random.randrange(0, 101, 2))              # Even integer from 0 to 100 inclusive\n",
    "\n",
    "\n",
    "print(random.choice(['win', 'lose', 'draw']))   # Single random element from a sequence\n",
    "\n",
    "\n",
    "deck = 'ace two three four'.split()\n",
    "random.shuffle(deck)                     # Shuffle a list\n",
    "print(deck)\n",
    "\n",
    "print(random.sample([10, 20, 30, 40, 50], k=4)) # Four samples without replacement\n",
    "\n"
   ]
  },
  {
   "cell_type": "code",
   "execution_count": 19,
   "id": "ca3c4327",
   "metadata": {},
   "outputs": [
    {
     "name": "stdout",
     "output_type": "stream",
     "text": [
      "orange\n",
      "2\n",
      "['orange', 'apple', 'pear', 'banana', 'kiwi', 'apple', 'banana', 'lemon']\n",
      "['orange', 'apple', 'pear', 'guava', 'banana', 'kiwi', 'apple', 'banana', 'lemon']\n",
      "['orange', 'apple', 'pear', 'guava', 'banana', 'kiwi', 'apple', 'banana']\n",
      "['orange', 'apple', 'guava', 'banana', 'kiwi', 'apple', 'banana']\n",
      "['banana', 'apple', 'kiwi', 'banana', 'guava', 'apple', 'orange']\n",
      "['apple', 'apple', 'banana', 'banana', 'guava', 'kiwi', 'orange']\n",
      "orange\n"
     ]
    }
   ],
   "source": [
    "# List\n",
    "\n",
    "fruits = ['orange', 'apple', 'pear', 'banana', 'kiwi', 'apple', 'banana']\n",
    "\n",
    "print(fruits[0]) #orange\n",
    "print(fruits.count('apple'))\n",
    "\n",
    "fruits.append('lemon')\n",
    "print(fruits)\n",
    "\n",
    "fruits.insert(3,'guava')\n",
    "print(fruits)\n",
    "\n",
    "fruits.remove('lemon')\n",
    "print(fruits)\n",
    "\n",
    "fruits.pop(2)\n",
    "print(fruits)\n",
    "\n",
    "fruits.reverse()\n",
    "print(fruits)\n",
    "\n",
    "fruits.sort()\n",
    "print(fruits)\n",
    "\n",
    "print(fruits.pop())"
   ]
  },
  {
   "cell_type": "code",
   "execution_count": 30,
   "id": "50e46062",
   "metadata": {},
   "outputs": [
    {
     "name": "stdout",
     "output_type": "stream",
     "text": [
      "Angela\n"
     ]
    }
   ],
   "source": [
    "names = [\"Angela\", \"Ben\", \"Jenny\", \"Michael\", \"Chloe\"]\n",
    "# names = names_string.split(\", \")\n",
    "\n",
    "# print(type(names))\n",
    "# print(names[0])\n",
    "import random\n",
    "\n",
    "random_name_index = random.randint(0,len(names))\n",
    "random_name = names[random_name_index]\n",
    "print(f\"{random_name}\")"
   ]
  },
  {
   "cell_type": "code",
   "execution_count": 33,
   "id": "fd5fa6a4",
   "metadata": {},
   "outputs": [
    {
     "name": "stdout",
     "output_type": "stream",
     "text": [
      "[['apple', 'orange'], ['banana', 'kiwi']]\n",
      "apple\n",
      "orange\n",
      "banana\n",
      "kiwi\n"
     ]
    },
    {
     "ename": "IndexError",
     "evalue": "list index out of range",
     "output_type": "error",
     "traceback": [
      "\u001b[1;31m---------------------------------------------------------------------------\u001b[0m",
      "\u001b[1;31mIndexError\u001b[0m                                Traceback (most recent call last)",
      "Cell \u001b[1;32mIn[33], line 8\u001b[0m\n\u001b[0;32m      6\u001b[0m \u001b[38;5;28mprint\u001b[39m(list_of_fruits[\u001b[38;5;241m1\u001b[39m][\u001b[38;5;241m0\u001b[39m])\n\u001b[0;32m      7\u001b[0m \u001b[38;5;28mprint\u001b[39m(list_of_fruits[\u001b[38;5;241m1\u001b[39m][\u001b[38;5;241m1\u001b[39m])\n\u001b[1;32m----> 8\u001b[0m \u001b[38;5;28mprint\u001b[39m(\u001b[43mlist_of_fruits\u001b[49m\u001b[43m[\u001b[49m\u001b[38;5;241;43m1\u001b[39;49m\u001b[43m]\u001b[49m\u001b[43m[\u001b[49m\u001b[38;5;241;43m2\u001b[39;49m\u001b[43m]\u001b[49m)\n",
      "\u001b[1;31mIndexError\u001b[0m: list index out of range"
     ]
    }
   ],
   "source": [
    "# Nested lists\n",
    "list_of_fruits = [['apple','orange'],['banana','kiwi']]\n",
    "print(list_of_fruits)\n",
    "print(list_of_fruits[0][0])\n",
    "print(list_of_fruits[0][1])\n",
    "print(list_of_fruits[1][0])\n",
    "print(list_of_fruits[1][1])\n",
    "print(list_of_fruits[1][2]) #IndexError"
   ]
  },
  {
   "cell_type": "code",
   "execution_count": 64,
   "id": "b406b813",
   "metadata": {},
   "outputs": [
    {
     "name": "stdout",
     "output_type": "stream",
     "text": [
      "Hiding your treasure! X marks the spot.\n",
      "B1\n",
      "[['⬜️', '️⬜️', '️⬜️'], ['⬜️', '⬜️', '️⬜️'], ['⬜️️', '⬜️️', '⬜️️']]\n",
      "1 and 1\n",
      "['⬜️', 'X', '️⬜️']\n",
      "['⬜️', '⬜️', '️⬜️']\n",
      "['⬜️️', '⬜️️', '⬜️️']\n"
     ]
    }
   ],
   "source": [
    "line1 = [\"⬜️\",\"️⬜️\",\"️⬜️\"]\n",
    "line2 = [\"⬜️\",\"⬜️\",\"️⬜️\"]\n",
    "line3 = [\"⬜️️\",\"⬜️️\",\"⬜️️\"]\n",
    "map = [line1, line2, line3]\n",
    "print(\"Hiding your treasure! X marks the spot.\")\n",
    "position = input() # Where do you want to put the treasure?\n",
    "\n",
    "# print(map)\n",
    "letter = ord(position[0])-65\n",
    "number = int(position[1])\n",
    "\n",
    "# print(f\"{letter} and {number}\")\n",
    "# print(f\"{type(letter)} and {type(number)}\")\n",
    "\n",
    "if number == 1:\n",
    "    map[0][letter] = \"X\"\n",
    "if number == 2:\n",
    "    map[1][letter] = \"X\"\n",
    "if number == 3:\n",
    "    map[2][letter] = \"X\"\n",
    "\n",
    "print(f\"{line1}\\n{line2}\\n{line3}\")"
   ]
  },
  {
   "cell_type": "code",
   "execution_count": 68,
   "id": "d59166ae",
   "metadata": {},
   "outputs": [
    {
     "name": "stdout",
     "output_type": "stream",
     "text": [
      "[1, 2, 3, 4, 33, 12, 31, [432, 23], ['vdf', 'rgs']]\n"
     ]
    }
   ],
   "source": [
    "# list_entry = input(\"Enter your input? \")\n",
    "# List = list_entry.split()\n",
    "# print(List)\n",
    "\n",
    "List = [1,2,3,4]\n",
    "List.extend([33,12,31,[432,23],['vdf','rgs']])\n",
    "print(List)"
   ]
  },
  {
   "cell_type": "code",
   "execution_count": 74,
   "id": "840dcc61",
   "metadata": {},
   "outputs": [
    {
     "name": "stdout",
     "output_type": "stream",
     "text": [
      "What do you choose? Type 0 for Rock, 1 for Paper, 2 for Scissors0\n",
      "You choose rock\n",
      "Comp choose scissors\n",
      "You Win\n"
     ]
    }
   ],
   "source": [
    "# Rock, Paper, Scissors Game\n",
    "\n",
    "import random\n",
    "\n",
    "list_of_ing = [\"rock\", \"paper\", \"scissors\"]\n",
    "\n",
    "compChoice = random.randint(0,len(list_of_ing)-1)\n",
    "myChoice = int(input(\"What do you choose? Type 0 for Rock, 1 for Paper, 2 for Scissors\"))\n",
    "\n",
    "print(f\"You choose {list_of_ing[myChoice]}\")\n",
    "print(f\"Comp choose {list_of_ing[compChoice]}\")\n",
    "\n",
    "if(compChoice == myChoice):\n",
    "    print(\"Draw!\")\n",
    "elif(compChoice == 0 and myChoice == 1):\n",
    "    print(\"You lose\")\n",
    "elif(compChoice == 0 and myChoice == 2):\n",
    "    print(\"You Win\")\n",
    "elif(compChoice == 1 and myChoice == 0):\n",
    "    print(\"You lose\")\n",
    "elif(compChoice == 1 and myChoice == 2):\n",
    "    print(\"You Win\")\n",
    "elif(compChoice == 2 and myChoice == 0):\n",
    "    print(\"You Win\")\n",
    "elif(compChoice == 2 and myChoice == 1):\n",
    "    print(\"You Lose\")\n",
    "else:\n",
    "    print(\"You typed an invalid number, You lose!\")\n",
    "\n",
    "\n"
   ]
  },
  {
   "cell_type": "code",
   "execution_count": null,
   "id": "c0951eb1",
   "metadata": {},
   "outputs": [],
   "source": []
  }
 ],
 "metadata": {
  "kernelspec": {
   "display_name": "Python 3 (ipykernel)",
   "language": "python",
   "name": "python3"
  },
  "language_info": {
   "codemirror_mode": {
    "name": "ipython",
    "version": 3
   },
   "file_extension": ".py",
   "mimetype": "text/x-python",
   "name": "python",
   "nbconvert_exporter": "python",
   "pygments_lexer": "ipython3",
   "version": "3.9.18"
  }
 },
 "nbformat": 4,
 "nbformat_minor": 5
}
