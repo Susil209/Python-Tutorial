{
 "cells": [
  {
   "cell_type": "code",
   "execution_count": 4,
   "id": "2ffc291b",
   "metadata": {},
   "outputs": [
    {
     "name": "stdout",
     "output_type": "stream",
     "text": [
      "apple\n",
      "banana\n",
      "mango\n",
      "-------range---------\n",
      "0 apple\n",
      "1 banana\n",
      "2 mango\n",
      "--------enumerate----------\n",
      "0 who\n",
      "1 am\n",
      "2 I\n"
     ]
    }
   ],
   "source": [
    "# for loop\n",
    "\n",
    "fruits = [\"apple\",\"banana\",\"mango\"]\n",
    "\n",
    "for fruit in fruits:\n",
    "    print(fruit)\n",
    "\n",
    "print(\"-------range---------\")\n",
    "\n",
    "for i in range(0,len(fruits)):\n",
    "    print(i, fruits[i])\n",
    "    \n",
    "# enumerate\n",
    "\n",
    "print(\"--------enumerate----------\")\n",
    "\n",
    "for i, v in enumerate([\"who\", \"am\", \"I\"]):\n",
    "    print(i, v)"
   ]
  },
  {
   "cell_type": "code",
   "execution_count": 5,
   "id": "bf9dfc36",
   "metadata": {},
   "outputs": [
    {
     "name": "stdout",
     "output_type": "stream",
     "text": [
      "ironman Tony\n",
      "spiderman Peter\n"
     ]
    }
   ],
   "source": [
    "# items\n",
    "superheros = {\"ironman\": \"Tony\", \"spiderman\": \"Peter\"}\n",
    "\n",
    "for k,v in superheros.items():\n",
    "    print(k,v)"
   ]
  },
  {
   "cell_type": "code",
   "execution_count": 7,
   "id": "8d66196a",
   "metadata": {},
   "outputs": [
    {
     "name": "stdout",
     "output_type": "stream",
     "text": [
      "My name is Robin and age is 45\n",
      "My name is Zack and age is 56\n",
      "My name is Steve and age is 77\n"
     ]
    }
   ],
   "source": [
    "# zip\n",
    "names = [\"Robin\", \"Zack\", \"Steve\"]\n",
    "ages = [45, 56, 77]\n",
    "\n",
    "for n,a in zip(names, ages):\n",
    "    print(\"My name is {0} and age is {1}\".format(n,a))"
   ]
  },
  {
   "cell_type": "code",
   "execution_count": 65,
   "id": "60ddc624",
   "metadata": {},
   "outputs": [
    {
     "name": "stdout",
     "output_type": "stream",
     "text": [
      "Welcome to the PyPasssword Generator!\n",
      "How many letters would you like in your password?\n",
      "14\n",
      "How many symbols would you like?\n",
      "4\n",
      "How many numbers would you like?\n",
      "3\n",
      "Your password is %i09C#ugGwVcX5AOB!AQ*\n"
     ]
    }
   ],
   "source": [
    "# Random password generator\n",
    "\n",
    "import random\n",
    "\n",
    "letters = ['a', 'b', 'c', 'd', 'e', 'f', 'g', 'h', 'i', 'j', 'k', 'l', 'm', 'n', 'o', 'p',\n",
    "           'q', 'r', 's', 't', 'u', 'v', 'w', 'x', 'y', 'z','A', 'B', 'C', 'D', 'E', 'F',\n",
    "           'G', 'H', 'I', 'J', 'K', 'L', 'M', 'N', 'O', 'P', 'Q', 'R', 'S', 'T', 'U', 'V',\n",
    "           'W', 'X', 'Y', 'Z']\n",
    "\n",
    "numbers = ['0','1','2','3','4','5','6','7','8','9']\n",
    "symbols = ['!','#','$','%','&','(',')','*','+']\n",
    "\n",
    "print(\"Welcome to the PyPasssword Generator!\")\n",
    "nr_letters = int(input(\"How many letters would you like in your password?\\n\"))\n",
    "nr_symbols = int(input(f\"How many symbols would you like?\\n\"))\n",
    "nr_numbers = int(input(f\"How many numbers would you like?\\n\"))\n",
    "\n",
    "password = \"\"\n",
    "\n",
    "for letter in range(1, nr_letters+1): # 1-nr_letters\n",
    "    password += letters[random.randint(0,len(letters)-1)] # letters[0-len]\n",
    "    # or password += random.choice(letters)\n",
    "    \n",
    "for letter in range(1, nr_symbols+1): # 1-nr_symbols\n",
    "    password += symbols[random.randint(0,len(symbols)-1)]    \n",
    "    \n",
    "for letter in range(1, nr_numbers+1): # 1-nr_symbols\n",
    "    password += numbers[random.randint(0,len(numbers)-1)]\n",
    "\n",
    "    \n",
    "# shuffle the chars\n",
    "password = ''.join(random.sample(password,len(password)))\n",
    "\n",
    "# or\n",
    "# l = list(password)\n",
    "# random.shuffle(l)\n",
    "# password = ''.join(l)\n",
    "\n",
    "print(f\"Your password is {password}\")\n"
   ]
  },
  {
   "cell_type": "code",
   "execution_count": 57,
   "id": "372d84ed",
   "metadata": {},
   "outputs": [
    {
     "name": "stdout",
     "output_type": "stream",
     "text": [
      "0\n",
      "4\n",
      "7\n",
      "11\n",
      "14\n",
      "12\n",
      "15\n",
      "14\n",
      "18\n",
      "21\n",
      "24\n",
      "17\n",
      "25\n",
      "18\n"
     ]
    }
   ],
   "source": [
    "# nlist = list(range(0,10))\n",
    "\n",
    "import random\n",
    "\n",
    "for i in range(0,14):\n",
    "    print(i+random.randint(0,14))\n",
    "\n"
   ]
  }
 ],
 "metadata": {
  "kernelspec": {
   "display_name": "Python 3 (ipykernel)",
   "language": "python",
   "name": "python3"
  },
  "language_info": {
   "codemirror_mode": {
    "name": "ipython",
    "version": 3
   },
   "file_extension": ".py",
   "mimetype": "text/x-python",
   "name": "python",
   "nbconvert_exporter": "python",
   "pygments_lexer": "ipython3",
   "version": "3.9.18"
  }
 },
 "nbformat": 4,
 "nbformat_minor": 5
}
